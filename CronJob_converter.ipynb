{
  "nbformat": 4,
  "nbformat_minor": 0,
  "metadata": {
    "colab": {
      "provenance": [],
      "collapsed_sections": [],
      "authorship_tag": "ABX9TyPEz2ti6P1qiEnM7QvuVdaq",
      "include_colab_link": true
    },
    "kernelspec": {
      "name": "python3",
      "display_name": "Python 3"
    },
    "language_info": {
      "name": "python"
    }
  },
  "cells": [
    {
      "cell_type": "markdown",
      "metadata": {
        "id": "view-in-github",
        "colab_type": "text"
      },
      "source": [
        "<a href=\"https://colab.research.google.com/github/Moumita110/-Predicting-system-stability-using-SVM/blob/main/CronJob_converter.ipynb\" target=\"_parent\"><img src=\"https://colab.research.google.com/assets/colab-badge.svg\" alt=\"Open In Colab\"/></a>"
      ]
    },
    {
      "cell_type": "code",
      "execution_count": 1,
      "metadata": {
        "colab": {
          "base_uri": "https://localhost:8080/"
        },
        "id": "Z8hvHkc89SYx",
        "outputId": "b9fc8ae2-49af-405c-fb28-48b73383411c"
      },
      "outputs": [
        {
          "output_type": "stream",
          "name": "stdout",
          "text": [
            "Looking in indexes: https://pypi.org/simple, https://us-python.pkg.dev/colab-wheels/public/simple/\n",
            "Collecting cron-descriptor\n",
            "  Downloading cron_descriptor-1.2.31.tar.gz (28 kB)\n",
            "Building wheels for collected packages: cron-descriptor\n",
            "  Building wheel for cron-descriptor (setup.py) ... \u001b[?25l\u001b[?25hdone\n",
            "  Created wheel for cron-descriptor: filename=cron_descriptor-1.2.31-py3-none-any.whl size=46626 sha256=fdea09bef9a001b958afc8b93fac7ead75fde8d9cbf29a8833160012e7275ebc\n",
            "  Stored in directory: /root/.cache/pip/wheels/30/2d/7e/57772da03fcb94af1a87a47ea0ab86fdd7530e4f67d0d68d6c\n",
            "Successfully built cron-descriptor\n",
            "Installing collected packages: cron-descriptor\n",
            "Successfully installed cron-descriptor-1.2.31\n"
          ]
        }
      ],
      "source": [
        "pip install cron-descriptor\n"
      ]
    },
    {
      "cell_type": "code",
      "source": [
        "from cron_descriptor import get_description, ExpressionDescriptor\n",
        "\n",
        "print(str(ExpressionDescriptor(\"00 0 1 */1 *\")))"
      ],
      "metadata": {
        "colab": {
          "base_uri": "https://localhost:8080/"
        },
        "id": "5fRRMofb9elC",
        "outputId": "bbd99033-4f2c-4318-944b-902c99276d7b"
      },
      "execution_count": 2,
      "outputs": [
        {
          "output_type": "stream",
          "name": "stdout",
          "text": [
            "At 12:00 AM, on day 1 of the month\n"
          ]
        }
      ]
    },
    {
      "cell_type": "code",
      "source": [
        "import pandas as pd\n",
        "import openpyxl"
      ],
      "metadata": {
        "id": "fEXyTOON_8gZ"
      },
      "execution_count": 3,
      "outputs": []
    },
    {
      "cell_type": "code",
      "source": [
        "data = pd.read_excel (r'/content/Bangladesh_scheduler_11_10_2022.xlsx') \n",
        "df = pd.DataFrame(data, columns= ['RecurrencePattern'])\n",
        "print (df)"
      ],
      "metadata": {
        "colab": {
          "base_uri": "https://localhost:8080/"
        },
        "id": "cfXNbSl1_-AY",
        "outputId": "9dcec165-d910-4de0-c7f5-1f9e1e6b5d05"
      },
      "execution_count": 5,
      "outputs": [
        {
          "output_type": "stream",
          "name": "stdout",
          "text": [
            "    RecurrencePattern\n",
            "0        00 0 1 */1 *\n",
            "1        00 0 1 */3 *\n",
            "2        00 0 1 */1 *\n",
            "3        00 2 */1 * *\n",
            "4        00 2 */1 * *\n",
            "..                ...\n",
            "199      30 7 */1 * *\n",
            "200      30 3 */1 * *\n",
            "201     30 17 */1 * *\n",
            "202        00 3 * * 1\n",
            "203     00 4 21 */1 *\n",
            "\n",
            "[204 rows x 1 columns]\n"
          ]
        }
      ]
    },
    {
      "cell_type": "code",
      "source": [
        "for i in range(len(df)):\n",
        "    patternToText = (str(ExpressionDescriptor (df.loc[i, \"RecurrencePattern\"])))\n",
        "    print (patternToText.replace(\"At\", \";\"))\n",
        "    "
      ],
      "metadata": {
        "colab": {
          "base_uri": "https://localhost:8080/"
        },
        "id": "1Wnso5KFJm01",
        "outputId": "f512dc73-8418-428e-f3b8-34eeaa3bc1fd"
      },
      "execution_count": 16,
      "outputs": [
        {
          "output_type": "stream",
          "name": "stdout",
          "text": [
            "; 12:00 AM, on day 1 of the month\n",
            "; 12:00 AM, on day 1 of the month, every 3 months\n",
            "; 12:00 AM, on day 1 of the month\n",
            "; 02:00 AM\n",
            "; 02:00 AM\n",
            "; 02:00 AM\n",
            "; 02:00 AM\n",
            "; 02:00 AM\n",
            "; 02:00 AM\n",
            "; 01:30 AM\n",
            "; 08:30 AM\n",
            "; 05:00 AM\n",
            "; 05:00 AM\n",
            "; 05:00 AM\n",
            "; 05:00 AM\n",
            "; 08:30 AM, only on Sunday and Monday\n",
            "; 08:30 AM, only on Sunday\n",
            "; 02:00 AM\n",
            "; 12:00 AM, on day 1 of the month\n",
            "; 10:00 AM\n",
            "; 10:00 AM\n",
            "; 10:00 AM\n",
            "; 10:00 AM\n",
            "; 10:00 AM\n",
            "; 10:00 AM\n",
            "; 10:00 AM\n",
            "; 10:00 AM\n",
            "; 10:00 AM\n",
            "; 10:00 AM\n",
            "; 10:00 AM\n",
            "; 10:00 AM\n",
            "; 10:00 AM\n",
            "; 08:15 PM\n",
            "; 02:00 AM, only on Monday\n",
            "; 03:00 AM\n",
            "; 05:00 AM\n",
            "; 05:00 AM\n",
            "; 02:00 AM\n",
            "; 11:45 AM, on day 31 of the month\n",
            "; 05:00 AM\n",
            "; 08:00 AM, only on Monday\n",
            "; 05:00 AM\n",
            "; 05:00 AM\n",
            "; 05:00 AM\n",
            "; 07:30 AM\n",
            "; 07:30 AM, only on Monday\n",
            "; 12:00 AM, on day 18 of the month\n",
            "; 12:00 AM, on day 23 of the month\n",
            "; 12:15 AM\n",
            "; 12:15 PM\n",
            "; 05:00 AM, only on Saturday\n",
            "; 05:00 AM\n",
            "; 06:00 AM\n",
            "; 08:00 AM\n",
            "; 08:00 AM, only on Saturday\n",
            "; 02:15 PM\n",
            "; 01:45 PM\n",
            "; 05:15 AM, only on Saturday\n",
            "; 03:15 PM, only on Sunday and Saturday\n",
            "; 05:00 AM\n",
            "; 02:45 PM\n",
            "; 02:45 PM, only on Sunday and Saturday\n",
            "; 05:30 AM, only on Saturday\n",
            "; 07:00 AM, only on Saturday\n",
            "; 05:00 PM\n",
            "; 05:45 AM, only on Saturday\n",
            "; 02:15 PM\n",
            "; 02:45 PM, only on Sunday and Saturday\n",
            "; 02:30 PM\n",
            "; 03:00 PM, only on Sunday and Saturday\n",
            "; 02:00 AM, only on Saturday\n",
            "; 05:45 PM\n",
            "; 05:45 AM, only on Saturday\n",
            "; 07:45 AM\n",
            "; 05:45 AM\n",
            "; 06:00 AM\n",
            "; 01:45 PM\n",
            "; 02:15 PM\n",
            "; 05:00 AM\n",
            "; 06:00 AM, only on Saturday\n",
            "; 03:00 PM, only on Sunday and Saturday\n",
            "; 02:00 PM\n",
            "; 11:15 AM\n",
            "; 12:45 PM\n",
            "; 03:45 PM\n",
            "; 12:30 PM\n",
            "; 10:00 PM\n",
            "; 03:45 PM\n",
            "; 06:15 AM\n",
            "; 03:30 AM\n",
            "; 02:45 PM\n",
            "; 02:45 PM\n",
            "; 02:45 PM\n",
            "; 07:00 AM, only on Saturday\n",
            "; 02:45 PM, only on Sunday and Saturday\n",
            "; 03:00 PM, only on Sunday and Saturday\n",
            "; 02:45 PM\n",
            "; 02:30 PM\n",
            "; 02:45 PM, only on Saturday\n",
            "; 02:45 PM\n",
            "; 11:45 PM\n",
            "; 10:00 PM\n",
            "; 03:00 PM, only on Sunday and Saturday\n",
            "; 03:00 PM, only on Sunday and Saturday\n",
            "; 03:00 PM, only on Sunday and Saturday\n",
            "; 02:45 AM\n",
            "; 05:00 AM\n",
            "; 04:00 PM\n",
            "; 05:30 AM\n",
            "; 03:00 AM\n",
            "; 12:45 PM\n",
            "; 10:45 AM, only on Saturday\n",
            "; 07:45 PM\n",
            "; 02:00 AM, only on Sunday and Saturday\n",
            "; 04:30 AM, only on Saturday\n",
            "; 07:30 PM\n",
            "; 05:45 AM\n",
            "; 01:15 AM\n",
            "; 07:15 PM\n",
            "; 06:00 PM, only on Saturday\n",
            "; 07:30 PM\n",
            "; 10:00 PM\n",
            "; 03:30 AM\n",
            "; 01:00 AM, only on Saturday\n",
            "; 02:45 PM\n",
            "; 02:45 PM\n",
            "; 03:00 PM\n",
            "; 12:30 AM\n",
            "; 11:45 AM\n",
            "; 05:15 PM\n",
            "; 03:45 AM\n",
            "; 12:45 AM, only on Sunday and Wednesday\n",
            "; 12:00 AM\n",
            "; 03:00 PM, only on Sunday\n",
            "; 09:30 AM\n",
            "; 12:15 AM\n",
            "; 11:15 PM\n",
            "; 12:15 AM\n",
            "; 03:00 AM\n",
            "; 03:15 AM\n",
            "; 03:45 AM\n",
            "; 03:45 AM\n",
            "; 04:00 AM\n",
            "; 02:00 AM\n",
            "; 05:00 AM\n",
            "; 02:00 AM\n",
            "; 03:15 AM\n",
            "; 03:15 AM\n",
            "; 06:00 AM\n",
            "; 07:00 AM\n",
            "; 03:30 AM\n",
            "; 02:30 AM\n",
            "; 03:15 AM\n",
            "; 05:00 AM\n",
            "; 09:00 AM\n",
            "; 07:45 AM\n",
            "; 05:00 AM\n",
            "; 10:15 AM\n",
            "; 02:00 AM\n",
            "; 02:00 AM\n",
            "; 03:00 AM\n",
            "; 04:30 PM\n",
            "; 04:30 PM\n",
            "; 04:15 PM\n",
            "; 04:00 PM\n",
            "; 03:30 PM\n",
            "; 04:30 PM\n",
            "; 03:15 AM\n",
            "; 03:00 AM\n",
            "; 03:00 AM\n",
            "; 05:30 PM\n",
            "; 05:15 PM\n",
            "; 04:30 PM\n",
            "; 10:15 AM\n",
            "; 03:15 PM\n",
            "; 07:30 PM\n",
            "; 11:00 AM\n",
            "; 11:00 AM\n",
            "; 01:45 AM, only on Saturday\n",
            "; 02:00 AM, only on Saturday\n",
            "; 02:30 AM, only on Saturday\n",
            "; 02:00 AM, only on Saturday\n",
            "; 02:15 AM, only on Saturday\n",
            "; 03:00 PM\n",
            "; 11:15 AM\n",
            "; 03:30 AM\n",
            "; 02:00 PM\n",
            "; 09:00 PM\n",
            "; 03:30 PM\n",
            "; 04:00 AM\n",
            "; 07:00 PM\n",
            "; 04:15 AM\n",
            "; 07:00 PM\n",
            "; 04:00 AM\n",
            "; 07:00 PM\n",
            "; 10:45 AM\n",
            "; 10:45 AM\n",
            "; 06:00 AM\n",
            "; 05:00 AM\n",
            "; 07:30 AM\n",
            "; 03:30 AM\n",
            "; 05:30 PM\n",
            "; 03:00 AM, only on Monday\n",
            "; 04:00 AM, on day 21 of the month\n"
          ]
        }
      ]
    }
  ]
}